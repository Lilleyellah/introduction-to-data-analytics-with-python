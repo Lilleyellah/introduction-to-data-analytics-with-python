{
 "cells": [
  {
   "cell_type": "markdown",
   "id": "7d9c30de-58f6-4d40-a96b-6d6870953e9a",
   "metadata": {},
   "source": [
    "# NAME: Otieno Lilian Adhiambo \n",
    " ADM NO:FAB/DV/07\n",
    " ASSIGNMENT: DATA MANIPULATION"
   ]
  },
  {
   "cell_type": "code",
   "execution_count": null,
   "id": "0d9dbfa6-05b1-460f-9a31-0f2c370cead5",
   "metadata": {},
   "outputs": [],
   "source": [
    "# Suppose you have dataset contai"
   ]
  }
 ],
 "metadata": {
  "kernelspec": {
   "display_name": "Python 3 (ipykernel)",
   "language": "python",
   "name": "python3"
  },
  "language_info": {
   "codemirror_mode": {
    "name": "ipython",
    "version": 3
   },
   "file_extension": ".py",
   "mimetype": "text/x-python",
   "name": "python",
   "nbconvert_exporter": "python",
   "pygments_lexer": "ipython3",
   "version": "3.12.4"
  }
 },
 "nbformat": 4,
 "nbformat_minor": 5
}
