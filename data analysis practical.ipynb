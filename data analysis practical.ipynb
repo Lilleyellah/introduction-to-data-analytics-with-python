{
 "cells": [
  {
   "cell_type": "markdown",
   "id": "3846c316-6592-4b71-86f1-0ffdac894777",
   "metadata": {},
   "source": [
    "# NAME: Otieno Lilian\n",
    "Adm: FAB/DV/07\n",
    " Assignment: DATA MANIPULATION"
   ]
  },
  {
   "cell_type": "code",
   "execution_count": null,
   "id": "b063c5df-4fe6-493d-9ebb-ac66ec58ea75",
   "metadata": {},
   "outputs": [],
   "source": []
  }
 ],
 "metadata": {
  "kernelspec": {
   "display_name": "Python 3 (ipykernel)",
   "language": "python",
   "name": "python3"
  },
  "language_info": {
   "codemirror_mode": {
    "name": "ipython",
    "version": 3
   },
   "file_extension": ".py",
   "mimetype": "text/x-python",
   "name": "python",
   "nbconvert_exporter": "python",
   "pygments_lexer": "ipython3",
   "version": "3.12.4"
  }
 },
 "nbformat": 4,
 "nbformat_minor": 5
}
