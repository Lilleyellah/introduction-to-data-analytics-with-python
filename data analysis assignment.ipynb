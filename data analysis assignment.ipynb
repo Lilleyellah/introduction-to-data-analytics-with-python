{
 "cells": [
  {
   "cell_type": "code",
   "execution_count": 1,
   "id": "b53e948c-4bd1-4bbf-9916-3a3933231284",
   "metadata": {},
   "outputs": [
    {
     "name": "stdout",
     "output_type": "stream",
     "text": [
      "{'name': ['student1', 'student2', 'student3'], 'math': [80, 90, 70], 'science': [50, 60, 40], 'english': [30, 75, 86]}\n"
     ]
    }
   ],
   "source": [
    "student_score={\n",
    " \"name\":[\"student1\",\"student2\",\"student3\"],\n",
    " \"math\":[80, 90, 70],\n",
    " \"science\":[50,60,40],\n",
    " \"english\":[30,75,86],\n",
    "}\n",
    "print (student_score)   #creating a data frame student_score containing 3 subjects"
   ]
  },
  {
   "cell_type": "code",
   "execution_count": 2,
   "id": "aec58fcd-ce56-4f52-a638-cfdf18bcf47f",
   "metadata": {},
   "outputs": [],
   "source": [
    "import pandas as pd"
   ]
  },
  {
   "cell_type": "code",
   "execution_count": 3,
   "id": "05d26a5d-b887-4ce3-a94b-47c32e893588",
   "metadata": {},
   "outputs": [
    {
     "data": {
      "text/html": [
       "<div>\n",
       "<style scoped>\n",
       "    .dataframe tbody tr th:only-of-type {\n",
       "        vertical-align: middle;\n",
       "    }\n",
       "\n",
       "    .dataframe tbody tr th {\n",
       "        vertical-align: top;\n",
       "    }\n",
       "\n",
       "    .dataframe thead th {\n",
       "        text-align: right;\n",
       "    }\n",
       "</style>\n",
       "<table border=\"1\" class=\"dataframe\">\n",
       "  <thead>\n",
       "    <tr style=\"text-align: right;\">\n",
       "      <th></th>\n",
       "      <th>name</th>\n",
       "      <th>math</th>\n",
       "      <th>science</th>\n",
       "      <th>english</th>\n",
       "    </tr>\n",
       "  </thead>\n",
       "  <tbody>\n",
       "    <tr>\n",
       "      <th>0</th>\n",
       "      <td>student1</td>\n",
       "      <td>80</td>\n",
       "      <td>50</td>\n",
       "      <td>30</td>\n",
       "    </tr>\n",
       "    <tr>\n",
       "      <th>1</th>\n",
       "      <td>student2</td>\n",
       "      <td>90</td>\n",
       "      <td>60</td>\n",
       "      <td>75</td>\n",
       "    </tr>\n",
       "    <tr>\n",
       "      <th>2</th>\n",
       "      <td>student3</td>\n",
       "      <td>70</td>\n",
       "      <td>40</td>\n",
       "      <td>86</td>\n",
       "    </tr>\n",
       "  </tbody>\n",
       "</table>\n",
       "</div>"
      ],
      "text/plain": [
       "       name  math  science  english\n",
       "0  student1    80       50       30\n",
       "1  student2    90       60       75\n",
       "2  student3    70       40       86"
      ]
     },
     "execution_count": 3,
     "metadata": {},
     "output_type": "execute_result"
    }
   ],
   "source": [
    "df=pd.DataFrame(student_score)  #representation of student and subject in row and column respectively\n",
    "df"
   ]
  },
  {
   "cell_type": "code",
   "execution_count": 4,
   "id": "a2414952-a3c2-4c3d-ba24-c2ecfedb0505",
   "metadata": {},
   "outputs": [
    {
     "name": "stdout",
     "output_type": "stream",
     "text": [
      "{'name': ['student1', 'student2', 'student3'], 'math': [80, 90, 70], 'science': [50, 60, 40], 'english': [30, 75, 86]}\n"
     ]
    }
   ],
   "source": [
    "df[\"average\"]=df[[\"math\", \"science\", \"english\"]]. mean (axis=1)\n",
    "print(student_score) # calculating average score if each student and adding new column named average"
   ]
  },
  {
   "cell_type": "code",
   "execution_count": 5,
   "id": "09796e67-d46e-4056-bc0f-d9f3edbf2ff8",
   "metadata": {},
   "outputs": [
    {
     "data": {
      "text/html": [
       "<div>\n",
       "<style scoped>\n",
       "    .dataframe tbody tr th:only-of-type {\n",
       "        vertical-align: middle;\n",
       "    }\n",
       "\n",
       "    .dataframe tbody tr th {\n",
       "        vertical-align: top;\n",
       "    }\n",
       "\n",
       "    .dataframe thead th {\n",
       "        text-align: right;\n",
       "    }\n",
       "</style>\n",
       "<table border=\"1\" class=\"dataframe\">\n",
       "  <thead>\n",
       "    <tr style=\"text-align: right;\">\n",
       "      <th></th>\n",
       "      <th>name</th>\n",
       "      <th>math</th>\n",
       "      <th>science</th>\n",
       "      <th>english</th>\n",
       "      <th>average</th>\n",
       "    </tr>\n",
       "  </thead>\n",
       "  <tbody>\n",
       "    <tr>\n",
       "      <th>0</th>\n",
       "      <td>student1</td>\n",
       "      <td>80</td>\n",
       "      <td>50</td>\n",
       "      <td>30</td>\n",
       "      <td>53.333333</td>\n",
       "    </tr>\n",
       "    <tr>\n",
       "      <th>1</th>\n",
       "      <td>student2</td>\n",
       "      <td>90</td>\n",
       "      <td>60</td>\n",
       "      <td>75</td>\n",
       "      <td>75.000000</td>\n",
       "    </tr>\n",
       "    <tr>\n",
       "      <th>2</th>\n",
       "      <td>student3</td>\n",
       "      <td>70</td>\n",
       "      <td>40</td>\n",
       "      <td>86</td>\n",
       "      <td>65.333333</td>\n",
       "    </tr>\n",
       "  </tbody>\n",
       "</table>\n",
       "</div>"
      ],
      "text/plain": [
       "       name  math  science  english    average\n",
       "0  student1    80       50       30  53.333333\n",
       "1  student2    90       60       75  75.000000\n",
       "2  student3    70       40       86  65.333333"
      ]
     },
     "execution_count": 5,
     "metadata": {},
     "output_type": "execute_result"
    }
   ],
   "source": [
    "df"
   ]
  },
  {
   "cell_type": "code",
   "execution_count": 6,
   "id": "78862c58-0d40-4bd8-8c0f-430a132f723a",
   "metadata": {},
   "outputs": [
    {
     "name": "stdout",
     "output_type": "stream",
     "text": [
      "       name  math  science  english  average\n",
      "1  student2    90       60       75     75.0\n"
     ]
    }
   ],
   "source": [
    "max_average=df[\"average\"].max()\n",
    "student_with_highest_average=df[df[\"average\"]==max_average]\n",
    "print( student_with_highest_average) #finding highest average"
   ]
  },
  {
   "cell_type": "code",
   "execution_count": 7,
   "id": "866d6ccc-0705-4ff7-82e1-f2dfff207cfc",
   "metadata": {},
   "outputs": [
    {
     "name": "stdout",
     "output_type": "stream",
     "text": [
      "       name  math  science  english    average\n",
      "1  student2    90       60       75  75.000000\n",
      "2  student3    70       40       86  65.333333\n",
      "0  student1    80       50       30  53.333333\n"
     ]
    }
   ],
   "source": [
    "df_sorting =df.sort_values(by= \"average\",ascending=False)\n",
    "print(df_sorting)   # sorting data frame based on average"
   ]
  },
  {
   "cell_type": "markdown",
   "id": "ba3de7ce-3cb8-4719-8381-e1aa2400b2e7",
   "metadata": {},
   "source": [
    "# question two"
   ]
  },
  {
   "cell_type": "code",
   "execution_count": 8,
   "id": "611af1ab-20e3-4042-8fdc-12e23af63019",
   "metadata": {},
   "outputs": [
    {
     "data": {
      "text/plain": [
       "[30, 20, 40]"
      ]
     },
     "execution_count": 8,
     "metadata": {},
     "output_type": "execute_result"
    }
   ],
   "source": [
    "temperatures=[30,20,40]\n",
    "temperatures"
   ]
  },
  {
   "cell_type": "code",
   "execution_count": 9,
   "id": "48125665-40d4-4596-bfef-d07073538930",
   "metadata": {},
   "outputs": [],
   "source": [
    "fahrenheit_temperatures = [(temp * 9/5) + 32 for temp in temperatures]"
   ]
  },
  {
   "cell_type": "code",
   "execution_count": 10,
   "id": "a9afc278-dac2-4f2d-b9fe-0d01ac407160",
   "metadata": {},
   "outputs": [
    {
     "data": {
      "text/plain": [
       "[86.0, 68.0, 104.0]"
      ]
     },
     "execution_count": 10,
     "metadata": {},
     "output_type": "execute_result"
    }
   ],
   "source": [
    "fahrenheit_temperatures"
   ]
  },
  {
   "cell_type": "code",
   "execution_count": null,
   "id": "7dbd117c-2ae8-48a0-8a4c-c4a98a7da650",
   "metadata": {},
   "outputs": [],
   "source": []
  }
 ],
 "metadata": {
  "kernelspec": {
   "display_name": "Python 3 (ipykernel)",
   "language": "python",
   "name": "python3"
  },
  "language_info": {
   "codemirror_mode": {
    "name": "ipython",
    "version": 3
   },
   "file_extension": ".py",
   "mimetype": "text/x-python",
   "name": "python",
   "nbconvert_exporter": "python",
   "pygments_lexer": "ipython3",
   "version": "3.12.4"
  }
 },
 "nbformat": 4,
 "nbformat_minor": 5
}
